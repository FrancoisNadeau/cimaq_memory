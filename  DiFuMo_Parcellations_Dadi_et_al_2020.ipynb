{
 "cells": [
  {
   "cell_type": "code",
   "execution_count": null,
   "metadata": {},
   "outputs": [],
   "source": [
    "# Dadi et al. (2020) DiFuMo Parcellations\n",
    "# Download and Usage Guide: https://parietal-inria.github.io/DiFuMo/\n",
    "# Citation: https://www.sciencedirect.com/science/article/pii/S1053811920306121\n",
    "\n",
    "\n",
    "import warnings\n",
    "warnings.simplefilter(\"ignore\")\n",
    "# Fetch n=10 brain images for demo\n",
    "# from nilearn.datasets import fetch_localizer_contrasts\n",
    "\n",
    "func_data = sub02.func\n",
    "cmaps = func_data.cmaps\n",
    "anats = func_data.anats\n",
    "# Simply visualize sentence listening activations on subject-specific T1 image\n",
    "\n",
    "import matplotlib.pyplot as plt\n",
    "from nilearn import plotting\n",
    "\n",
    "fig, axes = plt.subplots(figsize=(12, 10), ncols=2, nrows=5)\n",
    "axes = axes.reshape(-1)\n",
    "\n",
    "cut_coords = []\n",
    "\n",
    "for i, (anat_img, cmap) in enumerate(zip(anats, cmaps)):\n",
    "    display = plotting.plot_stat_map(cmap, bg_img=anat_img,\n",
    "                                     figure=fig, axes=axes[i],\n",
    "                                     colorbar=False)\n",
    "    cut_coords.append(display.cut_coords)\n",
    "\n",
    "\n",
    "\n",
    "from fetcher import fetch_difumo\n",
    "sub02.maps_img = fetch_difumo(dimension=64).maps\n",
    "from nilearn.input_data import NiftiMapsMasker\n",
    "\n",
    "maps_masker = NiftiMapsMasker(maps_img=maps_img, verbose=1)\n",
    "signals = maps_masker.fit_transform(cmaps)\n",
    "print(\"Per ROIs signal: {0}\".format(signals.shape))\n",
    "\n",
    "# Image reconstruction\n",
    "compressed_maps = maps_masker.inverse_transform(signals)\n",
    "print(\"Each index in 4th dimension is reconstructed map: {0}\".format(compressed_maps.shape))\n",
    "\n",
    "# Visualize compressed contrast maps\n",
    "from nilearn.image import iter_img\n",
    "\n",
    "\n",
    "fig, axes = plt.subplots(figsize=(12, 10), ncols=2, nrows=5)\n",
    "axes = axes.reshape(-1)\n",
    "\n",
    "for i, (anat_img, cmap) in enumerate(zip(anats, iter_img(compressed_maps))):\n",
    "    plotting.plot_stat_map(cmap, bg_img=anat_img, \n",
    "                           figure=fig, axes=axes[i],\n",
    "                           colorbar=False, cut_coords=cut_coords[i])\n",
    "    \n"
   ]
  }
 ],
 "metadata": {
  "kernelspec": {
   "display_name": "Python 3",
   "language": "python",
   "name": "python3"
  },
  "language_info": {
   "codemirror_mode": {
    "name": "ipython",
    "version": 3
   },
   "file_extension": ".py",
   "mimetype": "text/x-python",
   "name": "python",
   "nbconvert_exporter": "python",
   "pygments_lexer": "ipython3",
   "version": "3.8.5"
  }
 },
 "nbformat": 4,
 "nbformat_minor": 4
}
