{
 "cells": [
  {
   "cell_type": "code",
   "execution_count": 19,
   "id": "chief-benefit",
   "metadata": {},
   "outputs": [],
   "source": [
    "#!/usr/bin/env python3\n",
    "\n",
    "import os\n",
    "import tarfile\n",
    "from os import listdir as ls\n",
    "from os.path import basename as bname\n",
    "from os.path import dirname as dname\n",
    "from os.path import join as pjoin\n",
    "from os.path import expanduser as xpu\n",
    "from tqdm import tqdm\n",
    "from typing import Union\n",
    "from sniffbytes import filter_lst_inc\n",
    "from sniffbytes import get_bytes\n",
    "from sniffbytes import loadfiles\n",
    "from sniffbytes import loadimages\n",
    "\n",
    "def get_dst_path(\n",
    "    src_path: Union[str, os.PathLike] = \"\",\n",
    "    dst_path: Union[str, os.PathLike] = None\n",
    ") -> str:\n",
    "    return [xpu(dst_path) if dst_path\n",
    "            else dname(xpu(src_path))][0]\n",
    "\n",
    "def getallfiles(\n",
    "    src_path: Union[str, os.PathLike]\n",
    ") -> list:\n",
    "    return loadfiles(sorted(loadimages(xpu(\n",
    "        src_path)))).fpaths.values.tolist()\n",
    "\n",
    "\n",
    "def to_tarxz(\n",
    "    src_path: Union[str, os.PathLike],\n",
    "    dst_path: Union[str, os.PathLike] = None\n",
    ") -> None:\n",
    "    with tarfile.open(pjoin(dname(\n",
    "        get_dst_path(src_path, dst_path)),\n",
    "                            bname(xpu(src_path))) + \\\n",
    "                      \".tar.xz\", \"w|xz\") as nlst:\n",
    "        [nlst.add(get_bytes(apath))\n",
    "         for apath in tqdm(getallfiles(src_path),\n",
    "                           desc = 'compressing')]\n",
    "    nlst.close()\n",
    "\n",
    "def main():\n",
    "    ''' Creates .tgz archive'''\n",
    "    if __name__ == \"__main__\":\n",
    "        to_tarxz(src_path, dst_path)\n"
   ]
  },
  {
   "cell_type": "code",
   "execution_count": 30,
   "id": "executed-eleven",
   "metadata": {},
   "outputs": [
    {
     "ename": "NameError",
     "evalue": "name 'apath' is not defined",
     "output_type": "error",
     "traceback": [
      "\u001b[0;31m---------------------------------------------------------------------------\u001b[0m",
      "\u001b[0;31mNameError\u001b[0m                                 Traceback (most recent call last)",
      "\u001b[0;32m<ipython-input-30-5abe55c72c3e>\u001b[0m in \u001b[0;36m<module>\u001b[0;34m\u001b[0m\n\u001b[1;32m      4\u001b[0m                str_lst = [pjoin(src_path, itm)\n\u001b[1;32m      5\u001b[0m                           for itm in ls(xpu(src_path))])\n\u001b[0;32m----> 6\u001b[0;31m bitem = [get_bytes(apath) if os.path.isfile(apath)\n\u001b[0m\u001b[1;32m      7\u001b[0m          else [get_bytes(subpath) for subpath in\n\u001b[1;32m      8\u001b[0m                flatten(loadimages(apath) for apath in testpaths)]]\n",
      "\u001b[0;31mNameError\u001b[0m: name 'apath' is not defined"
     ]
    }
   ],
   "source": [
    "src_path = '~/../../data/simexp/datasets/cimaq_03-19/'\n",
    "\n",
    "testpaths = filter_lst_inc(include = [\"sub\"],\n",
    "               str_lst = [pjoin(src_path, itm)\n",
    "                          for itm in ls(xpu(src_path))])\n",
    "items = list(loadimages(apath) for apath in testpaths)\n",
    "temppath = pjoin(os.getcwd(), 'tempdir')\n",
    "os.makedirs(tmppath, exist_ok = True)\n",
    "[shutil.copyfile()]\n",
    "# bitem = [get_bytes(apath) if os.path.isfile(apath)\n",
    "#          else [get_bytes(subpath) for subpath in\n",
    "#                flatten(loadimages(apath) for apath in testpaths)]]"
   ]
  },
  {
   "cell_type": "code",
   "execution_count": 29,
   "id": "informed-match",
   "metadata": {},
   "outputs": [
    {
     "data": {
      "text/plain": [
       "b'~/../../data/simexp/datasets/cimaq_03-19/sub-924191'"
      ]
     },
     "execution_count": 29,
     "metadata": {},
     "output_type": "execute_result"
    }
   ],
   "source": [
    "bitem"
   ]
  },
  {
   "cell_type": "code",
   "execution_count": 15,
   "id": "supported-editor",
   "metadata": {},
   "outputs": [
    {
     "data": {
      "text/plain": [
       "b'\\nconfig annex.largefiles=nothing\\nmetadata/aggregate* annex.largefiles=nothing\\nmetadata/objects/** annex.largefiles=(anything)'"
      ]
     },
     "execution_count": 15,
     "metadata": {},
     "output_type": "execute_result"
    }
   ],
   "source": [
    "btest"
   ]
  },
  {
   "cell_type": "code",
   "execution_count": null,
   "id": "architectural-reconstruction",
   "metadata": {},
   "outputs": [],
   "source": []
  }
 ],
 "metadata": {
  "kernelspec": {
   "display_name": "Python 3",
   "language": "python",
   "name": "python3"
  },
  "language_info": {
   "codemirror_mode": {
    "name": "ipython",
    "version": 3
   },
   "file_extension": ".py",
   "mimetype": "text/x-python",
   "name": "python",
   "nbconvert_exporter": "python",
   "pygments_lexer": "ipython3",
   "version": "3.6.9"
  }
 },
 "nbformat": 4,
 "nbformat_minor": 5
}
