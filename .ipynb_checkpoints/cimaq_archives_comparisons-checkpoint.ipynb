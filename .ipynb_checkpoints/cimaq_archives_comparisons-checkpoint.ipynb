{
 "cells": [
  {
   "cell_type": "code",
   "execution_count": 1,
   "metadata": {},
   "outputs": [],
   "source": [
    "import ast\n",
    "import binascii\n",
    "import gzip\n",
    "import io\n",
    "import json\n",
    "import os\n",
    "import pathlib\n",
    "import tarfile\n",
    "import zipfile\n",
    "\n",
    "# import snifbytes as snif\n",
    "# import load_utils as lu\n",
    "# import scanzip as szip\n",
    "\n",
    "from io import BytesIO\n",
    "from io import StringIO\n",
    "from os import listdir as ls\n",
    "from os.path import basename as bname\n",
    "from os.path import dirname as dname\n",
    "from os.path import expanduser as xpu\n",
    "from os.path import join as pjoin\n",
    "\n",
    "import numpy as np\n",
    "import pandas as pd\n",
    "from pandas import DataFrame as df\n",
    "\n",
    "from pathlib import Path\n",
    "datalad_config_path = Path(xpu('~/../../data/cisl/DATA/cimaq_20190901/.datalad/config'))\n"
   ]
  },
  {
   "cell_type": "code",
   "execution_count": 2,
   "metadata": {},
   "outputs": [],
   "source": [
    "def get_fulltarcontents(mytar):\n",
    "    return pd.concat([df.from_dict(tarmember.get_info(),\n",
    "                                   orient='index').T\n",
    "                              for tarmember in\n",
    "                              mytar.getmembers()]).sort_values(\n",
    "                        'name').reset_index(drop = True).iloc[1:220,:]"
   ]
  },
  {
   "cell_type": "code",
   "execution_count": 3,
   "metadata": {},
   "outputs": [],
   "source": [
    "def get_series_uids(mytar):\n",
    "    return pd.concat([df.from_dict(tarmember.get_info(),\n",
    "                                   orient='index').T\n",
    "                              for tarmember in\n",
    "                              mytar.getmembers()]).sort_values(\n",
    "                        'name').reset_index(drop = True).iloc[-1,:]['name']"
   ]
  },
  {
   "cell_type": "code",
   "execution_count": 5,
   "metadata": {},
   "outputs": [],
   "source": [
    "# getting clean credentials\n",
    "\n",
    "name, value = datalad_config_path.read_text().splitlines()\n",
    "newname=name.replace(']', '').replace(\n",
    "            '[', '').replace('\"', '').replace(' ', '_')\n",
    "newvalue = value[value.find('= ')+2:]\n",
    "datalad_credentials = ast.literal_eval(''.join(['{\"', str(newname),\n",
    "                          '\"', ' : \"', newvalue, '\"}']))\n",
    "with open(xpu('~/Documents/datalad_credentials.json'), 'w') as jfile:\n",
    "    json.dump(fp=jfile,\n",
    "              obj=datalad_credentials)\n",
    "jfile.close()\n"
   ]
  },
  {
   "cell_type": "code",
   "execution_count": 41,
   "metadata": {},
   "outputs": [],
   "source": [
    "# extractedpath = '~/mytar_extracted/cimaq_dicoms_20190901/'\n",
    "# seriesuids_test = next((pjoin(extractedpath, itm)\n",
    "#                         for itm in ls(extractedpath)))\n",
    "\n",
    "# series_uids = pd.read_csv(StringIO(Path(\n",
    "#                     seriesuids_test).read_text()),\n",
    "#                           sep = '\\t')\n",
    "\n",
    "# series_uids"
   ]
  },
  {
   "cell_type": "code",
   "execution_count": 42,
   "metadata": {},
   "outputs": [],
   "source": [
    "# series_uids_pscid = df(tuple(((str(grp), str(series_uids.groupby('PSCID').get_group(\n",
    "#                                 grp)['CandID'].unique().tolist()[0])),\n",
    "#                               series_uids.groupby('PSCID').get_group(grp).iloc[:, 2:])\n",
    "#                              for grp in series_uids.groupby('PSCID').groups))\n",
    "# series_uids_pscid"
   ]
  },
  {
   "cell_type": "code",
   "execution_count": 43,
   "metadata": {},
   "outputs": [],
   "source": [
    "# series_uids_pscid_dict = repr(series_uids_pscid.set_index(0).T.to_dict())\n",
    "# series_uids_pscid_dict                       "
   ]
  },
  {
   "cell_type": "code",
   "execution_count": 44,
   "metadata": {},
   "outputs": [],
   "source": [
    "# Path('~/series_uids_pscid2.json').write_text(\n",
    "#      series_uids_pscid_dict,\n",
    "#      encoding = 'UTF-8')\n"
   ]
  },
  {
   "cell_type": "code",
   "execution_count": 45,
   "metadata": {},
   "outputs": [],
   "source": [
    "# series_uids_pscid.to_csv('~/series_uids_pscid.tsv',\n",
    "#                          sep = '\\t',\n",
    "#                          encoding = 'UTF-8')"
   ]
  },
  {
   "cell_type": "code",
   "execution_count": 46,
   "metadata": {},
   "outputs": [],
   "source": [
    "# series_uids.to_csv('~/series_uids.tsv',\n",
    "#                    sep = '\\t',\n",
    "#                    encoding = 'UTF-8')\n",
    "\n",
    "# sourcedata_path=Path(pjoin(dname(dname(datalad_config_path)),\n",
    "#                 'sourcedata/cimaq_dicoms_20190901_v3.tar.gz'))\n",
    "\n",
    "# sourcedata_path.parent.as_posix()\n",
    "\n",
    "# mytar=tarfile.open(sourcedata_path)\n",
    "# tarfile_contents = get_fulltarcontents(mytar)\n",
    "\n",
    "# tarfile_contents['names'] = [str(aname) for aname in\n",
    "#                              tarfile_contents.name]\n",
    "# tarfile_contents['basenames'] = [bname(name).strip() for name\n",
    "#                                  in tarfile_contents.names]\n",
    "# tarfile_contents['split_basenames'] = [dict(tuple(zip(('dates', 'archv_names'),\n",
    "#                                                  name.split('_')[1:])))\n",
    "#                                        for name in tarfile_contents.basenames]\n",
    "# tarfile_contents['split_basenames']\n"
   ]
  },
  {
   "cell_type": "code",
   "execution_count": 84,
   "metadata": {},
   "outputs": [],
   "source": [
    "tarfile_contents.to_csv('~/tarfile_contents.tsv',\n",
    "                        sep = '\\t',\n",
    "                        encoding = 'UTF-8')"
   ]
  },
  {
   "cell_type": "code",
   "execution_count": 37,
   "metadata": {},
   "outputs": [],
   "source": [
    "tarfile_contents = pd.read_csv('~/cimaq_memory/tarfile_contents.tsv',\n",
    "                               sep = '\\t').set_index(\n",
    "                                   'Unnamed: 0').reset_index(drop = True)\n",
    "tarfile_contents['split_basenames'] = [ast.literal_eval(row[1].split_basenames)\n",
    "                                       if 'CIMAQ' not in row[1].split_basenames\n",
    "                                       else {'dates': \\\n",
    "                                             row[1].basenames.split('_')[1],\n",
    "                                             'archv_names': \\\n",
    "                                             '_'.join(row[1].basenames.split('_')[2:])}\n",
    "                                       for row in tarfile_contents.iterrows()]\n",
    "\n",
    "tarfile_contents = pd.concat([tarfile_contents,\n",
    "                              df(tarfile_contents['split_basenames'].values.tolist())],\n",
    "                             axis = 1)\n",
    "tarfile_contents.to_csv('~/cimaq_memory/tarfile_contents.tsv',\n",
    "                        sep = '\\t', encoding = 'UTF-8')"
   ]
  },
  {
   "cell_type": "code",
   "execution_count": 148,
   "metadata": {},
   "outputs": [],
   "source": [
    "tarfile_contents['inner_contents'] = \\\n",
    "    [df.from_dict(mytar.getmember(row[1].names).get_info(),\n",
    "                  orient = 'index').T.squeeze()\n",
    "     for row in tarfile_contents.iterrows()]"
   ]
  },
  {
   "cell_type": "code",
   "execution_count": 47,
   "metadata": {},
   "outputs": [
    {
     "ename": "NameError",
     "evalue": "name 'mytar' is not defined",
     "output_type": "error",
     "traceback": [
      "\u001b[0;31m---------------------------------------------------------------------------\u001b[0m",
      "\u001b[0;31mNameError\u001b[0m                                 Traceback (most recent call last)",
      "\u001b[0;32m<ipython-input-47-380491de7d81>\u001b[0m in \u001b[0;36m<module>\u001b[0;34m\u001b[0m\n\u001b[0;32m----> 1\u001b[0;31m \u001b[0mmytar\u001b[0m\u001b[0;34m\u001b[0m\u001b[0;34m\u001b[0m\u001b[0m\n\u001b[0m",
      "\u001b[0;31mNameError\u001b[0m: name 'mytar' is not defined"
     ]
    }
   ],
   "source": [
    "mytar"
   ]
  },
  {
   "cell_type": "code",
   "execution_count": null,
   "metadata": {},
   "outputs": [],
   "source": []
  }
 ],
 "metadata": {
  "kernelspec": {
   "display_name": "Python 3",
   "language": "python",
   "name": "python3"
  },
  "language_info": {
   "codemirror_mode": {
    "name": "ipython",
    "version": 3
   },
   "file_extension": ".py",
   "mimetype": "text/x-python",
   "name": "python",
   "nbconvert_exporter": "python",
   "pygments_lexer": "ipython3",
   "version": "3.9.5"
  }
 },
 "nbformat": 4,
 "nbformat_minor": 4
}
