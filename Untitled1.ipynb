{
 "cells": [
  {
   "cell_type": "code",
   "execution_count": 3,
   "metadata": {},
   "outputs": [
    {
     "name": "stderr",
     "output_type": "stream",
     "text": [
      "scanning archive: 100%|██████████| 94/94 [00:02<00:00, 34.72it/s]\n",
      "indexing participants: 282it [00:00, 581.95it/s]\n",
      "cleaning: 282it [00:05, 49.27it/s]\n",
      "grouping participants: 100%|██████████| 94/94 [00:00<00:00, 416.98it/s]\n",
      "fetching CIMAQ: 100%|██████████| 94/94 [00:02<00:00, 40.78it/s]\n",
      "loading confounds: 100%|██████████| 94/94 [00:00<00:00, 433257.78it/s]\n",
      "loading subjects: 100%|██████████| 94/94 [00:00<00:00, 398.25it/s]\n"
     ]
    }
   ],
   "source": [
    "import pandas as pd\n",
    "import shutil\n",
    "from os.path import expanduser as xpu\n",
    "from cimaq import cimaq\n",
    "from os import listdir as ls\n",
    "import sniffbytes as snif\n",
    "\n",
    "cimaq_dir = xpu('~/../../data/simexp/datasets/cimaq_03-19/')\n",
    "ls(cimaq_dir)\n",
    "cimaq = cimaq.fetch(cimaq_dir)\n",
    "\n"
   ]
  },
  {
   "cell_type": "code",
   "execution_count": 26,
   "metadata": {},
   "outputs": [
    {
     "data": {
      "text/plain": [
       "[]"
      ]
     },
     "execution_count": 26,
     "metadata": {},
     "output_type": "execute_result"
    }
   ],
   "source": [
    "import pandas as pd\n",
    "import shutil\n",
    "# scs = [itm.fpaths for itm in cimaq.scans]\n",
    "scs = pd.concat([itm.fpaths for itm in cimaq.scans],\n",
    "          ignore_index = True).reset_index(drop = True).values.tolist()\n",
    "\n",
    "scs = [apath for apath in\n",
    "       [itm for itm in scs if '.nii' in itm]\n",
    "       if '.gz' not in apath]\n",
    "# niimgs = [itm for itm in pd.concat(list(itm.fpaths for itm in\n",
    "#                             .values.flat)).values.tolist()\n",
    "#           if '.nii' in itm]\n",
    "# niimgs = snif.filter_lst_inc('.nii', )\n",
    "# nogz_nii = [itm for itm in niimgs if '.gz' not in itm]\n",
    "# niimgs_nogz = [itm  itm in niimgs if '.gz' not in itm]\n",
    "scs"
   ]
  },
  {
   "cell_type": "code",
   "execution_count": 31,
   "metadata": {},
   "outputs": [
    {
     "ename": "NameError",
     "evalue": "name 'os' is not defined",
     "output_type": "error",
     "traceback": [
      "\u001b[0;31m---------------------------------------------------------------------------\u001b[0m",
      "\u001b[0;31mNameError\u001b[0m                                 Traceback (most recent call last)",
      "\u001b[0;32m<ipython-input-31-d926699c9664>\u001b[0m in \u001b[0;36m<module>\u001b[0;34m\u001b[0m\n\u001b[0;32m----> 1\u001b[0;31m \u001b[0msubpaths\u001b[0m \u001b[0;34m=\u001b[0m \u001b[0;34m[\u001b[0m\u001b[0mos\u001b[0m\u001b[0;34m.\u001b[0m\u001b[0mpath\u001b[0m\u001b[0;34m.\u001b[0m\u001b[0mjoin\u001b[0m\u001b[0;34m(\u001b[0m\u001b[0mcimaq_dir\u001b[0m\u001b[0;34m,\u001b[0m \u001b[0mitm\u001b[0m\u001b[0;34m)\u001b[0m \u001b[0;32mfor\u001b[0m \u001b[0mitm\u001b[0m \u001b[0;32min\u001b[0m \u001b[0mls\u001b[0m\u001b[0;34m(\u001b[0m\u001b[0mcimaq_dir\u001b[0m\u001b[0;34m)\u001b[0m\u001b[0;34m]\u001b[0m\u001b[0;34m\u001b[0m\u001b[0;34m\u001b[0m\u001b[0m\n\u001b[0m\u001b[1;32m      2\u001b[0m \u001b[0msubpaths\u001b[0m\u001b[0;34m.\u001b[0m\u001b[0m__len__\u001b[0m\u001b[0;34m(\u001b[0m\u001b[0;34m)\u001b[0m\u001b[0;34m\u001b[0m\u001b[0;34m\u001b[0m\u001b[0m\n",
      "\u001b[0;32m<ipython-input-31-d926699c9664>\u001b[0m in \u001b[0;36m<listcomp>\u001b[0;34m(.0)\u001b[0m\n\u001b[0;32m----> 1\u001b[0;31m \u001b[0msubpaths\u001b[0m \u001b[0;34m=\u001b[0m \u001b[0;34m[\u001b[0m\u001b[0mos\u001b[0m\u001b[0;34m.\u001b[0m\u001b[0mpath\u001b[0m\u001b[0;34m.\u001b[0m\u001b[0mjoin\u001b[0m\u001b[0;34m(\u001b[0m\u001b[0mcimaq_dir\u001b[0m\u001b[0;34m,\u001b[0m \u001b[0mitm\u001b[0m\u001b[0;34m)\u001b[0m \u001b[0;32mfor\u001b[0m \u001b[0mitm\u001b[0m \u001b[0;32min\u001b[0m \u001b[0mls\u001b[0m\u001b[0;34m(\u001b[0m\u001b[0mcimaq_dir\u001b[0m\u001b[0;34m)\u001b[0m\u001b[0;34m]\u001b[0m\u001b[0;34m\u001b[0m\u001b[0;34m\u001b[0m\u001b[0m\n\u001b[0m\u001b[1;32m      2\u001b[0m \u001b[0msubpaths\u001b[0m\u001b[0;34m.\u001b[0m\u001b[0m__len__\u001b[0m\u001b[0;34m(\u001b[0m\u001b[0;34m)\u001b[0m\u001b[0;34m\u001b[0m\u001b[0;34m\u001b[0m\u001b[0m\n",
      "\u001b[0;31mNameError\u001b[0m: name 'os' is not defined"
     ]
    }
   ],
   "source": [
    "\n",
    "subpaths = [os.path.join(cimaq_dir, itm) for itm in ls(cimaq_dir)]\n",
    "subpaths.__len__()"
   ]
  },
  {
   "cell_type": "code",
   "execution_count": null,
   "metadata": {},
   "outputs": [],
   "source": []
  }
 ],
 "metadata": {
  "kernelspec": {
   "display_name": "Python 3",
   "language": "python",
   "name": "python3"
  },
  "language_info": {
   "codemirror_mode": {
    "name": "ipython",
    "version": 3
   },
   "file_extension": ".py",
   "mimetype": "text/x-python",
   "name": "python",
   "nbconvert_exporter": "python",
   "pygments_lexer": "ipython3",
   "version": "3.6.9"
  }
 },
 "nbformat": 4,
 "nbformat_minor": 4
}
